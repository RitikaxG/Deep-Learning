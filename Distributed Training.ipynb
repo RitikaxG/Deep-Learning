{
 "cells": [
  {
   "cell_type": "code",
   "execution_count": 1,
   "id": "cdc19b0b-53dd-4292-8589-7b774ad74253",
   "metadata": {},
   "outputs": [],
   "source": [
    "import tensorflow as tf\n",
    "from tensorflow import keras\n",
    "import numpy as np"
   ]
  },
  {
   "cell_type": "code",
   "execution_count": 2,
   "id": "525d0dd5-7d21-47e2-9365-364d451d88e4",
   "metadata": {},
   "outputs": [],
   "source": [
    "(X_train,y_train),(X_test,y_test) = tf.keras.datasets.cifar10.load_data()"
   ]
  },
  {
   "cell_type": "code",
   "execution_count": 3,
   "id": "23d4ae66-6df3-4ebb-ba3c-ca5bd600c3c2",
   "metadata": {},
   "outputs": [
    {
     "data": {
      "text/plain": [
       "[PhysicalDevice(name='/physical_device:CPU:0', device_type='CPU')]"
      ]
     },
     "execution_count": 3,
     "metadata": {},
     "output_type": "execute_result"
    }
   ],
   "source": [
    "tf.config.experimental.list_physical_devices()"
   ]
  },
  {
   "cell_type": "code",
   "execution_count": 4,
   "id": "beac94a1-1206-4c66-a133-7e9222df079a",
   "metadata": {},
   "outputs": [
    {
     "data": {
      "text/plain": [
       "(50000, 32, 32, 3)"
      ]
     },
     "execution_count": 4,
     "metadata": {},
     "output_type": "execute_result"
    }
   ],
   "source": [
    "X_train.shape"
   ]
  },
  {
   "cell_type": "code",
   "execution_count": 5,
   "id": "4e170c4d-fd07-4d1b-b913-19dfc2558ff8",
   "metadata": {},
   "outputs": [],
   "source": [
    "classes = ['airplane','automobile','bird','cat','deer','dog','frog','horse','ship','truck']"
   ]
  },
  {
   "cell_type": "code",
   "execution_count": 6,
   "id": "00dc0fd3-f1fb-4f4c-9c78-4c8401b1d1fd",
   "metadata": {},
   "outputs": [
    {
     "data": {
      "text/plain": [
       "array([[6],\n",
       "       [9],\n",
       "       [9],\n",
       "       [4],\n",
       "       [1]], dtype=uint8)"
      ]
     },
     "execution_count": 6,
     "metadata": {},
     "output_type": "execute_result"
    }
   ],
   "source": [
    "y_train[:5]"
   ]
  },
  {
   "cell_type": "code",
   "execution_count": 7,
   "id": "13633108-6ce7-4e5a-a47d-fa4b56e9880b",
   "metadata": {},
   "outputs": [],
   "source": [
    "X_train_scaled = X_train/255\n",
    "X_test_scaled = X_test/255"
   ]
  },
  {
   "cell_type": "code",
   "execution_count": 8,
   "id": "620b2d15-86e7-4222-a221-17c0015c0f7f",
   "metadata": {},
   "outputs": [],
   "source": [
    "#Convert into categorical variable\n",
    "y_train_categorical = keras.utils.to_categorical(\n",
    "    y_train,num_classes = 10, dtype='float32'\n",
    ")\n",
    "\n",
    "y_test_categorical = keras.utils.to_categorical(\n",
    "    y_test,num_classes = 10, dtype ='float32'\n",
    ")"
   ]
  },
  {
   "cell_type": "code",
   "execution_count": 26,
   "id": "8a8ee1f2-2709-40ca-8a15-d30466ff8fa5",
   "metadata": {},
   "outputs": [],
   "source": [
    "def get_model():\n",
    "    model = keras.Sequential([\n",
    "        keras.layers.Flatten(input_shape=(32,32,3)),\n",
    "        keras.layers.Dense(3000, activation = \"relu\"),\n",
    "        keras.layers.Dense(1000, activation = \"relu\"),\n",
    "        keras.layers.Dense(10, activation = \"sigmoid\")\n",
    "    ])\n",
    "\n",
    "    model.compile(optimizer ='SGD',\n",
    "                 loss = 'categorical_crossentropy',\n",
    "                 metrics= ['accuracy'])\n",
    "    return model"
   ]
  },
  {
   "cell_type": "code",
   "execution_count": 27,
   "id": "499d3994-3b70-4d24-a776-620f08635b32",
   "metadata": {},
   "outputs": [],
   "source": [
    "#Convert numpy array into tensorflow dataset\n",
    "#Create an object of tensorflow data type\n",
    "train_tf_dataset = tf.data.Dataset.from_tensor_slices((X_train_scaled, y_train_categorical))\n",
    "test_tf_dataset = tf.data.Dataset.from_tensor_slices((X_test_scaled, y_test_categorical))"
   ]
  },
  {
   "cell_type": "markdown",
   "id": "1a7fceb8-413d-46e5-b504-3627bcc536af",
   "metadata": {},
   "source": [
    "#### Building a Pipeline: Helps to read huge dataset\n",
    "* It gradually read your data step by step and improves the efficiency of the code\n",
    "#### Mirror Strategy\n",
    "* Allows you to split dataset, and send each split to diff GPU"
   ]
  },
  {
   "cell_type": "code",
   "execution_count": 28,
   "id": "59e9ca6d-2418-4a25-8725-145b7bbd8bbd",
   "metadata": {},
   "outputs": [
    {
     "data": {
      "text/plain": [
       "tensorflow.python.data.ops.from_tensor_slices_op._TensorSliceDataset"
      ]
     },
     "execution_count": 28,
     "metadata": {},
     "output_type": "execute_result"
    }
   ],
   "source": [
    "type(train_tf_dataset)"
   ]
  },
  {
   "cell_type": "code",
   "execution_count": 29,
   "id": "cbba08a6-2c94-4e85-b716-104fea439863",
   "metadata": {},
   "outputs": [
    {
     "name": "stdout",
     "output_type": "stream",
     "text": [
      "INFO:tensorflow:Using MirroredStrategy with devices ('/job:localhost/replica:0/task:0/device:CPU:0',)\n"
     ]
    }
   ],
   "source": [
    "strategy = tf.distribute.MirroredStrategy()"
   ]
  },
  {
   "cell_type": "code",
   "execution_count": 30,
   "id": "1d3ad72e-3e33-4a80-b560-148fd6c60851",
   "metadata": {},
   "outputs": [
    {
     "data": {
      "text/plain": [
       "1"
      ]
     },
     "execution_count": 30,
     "metadata": {},
     "output_type": "execute_result"
    }
   ],
   "source": [
    "strategy.num_replicas_in_sync"
   ]
  },
  {
   "cell_type": "code",
   "execution_count": 31,
   "id": "fb3f4c64-8412-43eb-bbbe-042ff880f5bc",
   "metadata": {},
   "outputs": [],
   "source": [
    "BATCH_SIZE_PER_REPLICA = 250\n",
    "BATCH_SIZE = BATCH_SIZE_PER_REPLICA * strategy.num_replicas_in_sync\n",
    "\n",
    "#prefetch : Optimizes the performance\n",
    "train_dataset = train_tf_dataset.batch(BATCH_SIZE).prefetch(tf.data.AUTOTUNE)\n",
    "test_dataset = test_tf_dataset.batch(BATCH_SIZE)"
   ]
  },
  {
   "cell_type": "code",
   "execution_count": 32,
   "id": "731896d1-3268-4457-97d5-489ed814fc19",
   "metadata": {},
   "outputs": [
    {
     "name": "stderr",
     "output_type": "stream",
     "text": [
      "2023-09-22 19:09:36.260260: W tensorflow/core/grappler/optimizers/data/auto_shard.cc:786] AUTO sharding policy will apply DATA sharding policy as it failed to apply FILE sharding policy because of the following reason: Found an unshardable source dataset: name: \"TensorSliceDataset/_2\"\n",
      "op: \"TensorSliceDataset\"\n",
      "input: \"Placeholder/_0\"\n",
      "input: \"Placeholder/_1\"\n",
      "attr {\n",
      "  key: \"Toutput_types\"\n",
      "  value {\n",
      "    list {\n",
      "      type: DT_DOUBLE\n",
      "      type: DT_FLOAT\n",
      "    }\n",
      "  }\n",
      "}\n",
      "attr {\n",
      "  key: \"_cardinality\"\n",
      "  value {\n",
      "    i: 50000\n",
      "  }\n",
      "}\n",
      "attr {\n",
      "  key: \"is_files\"\n",
      "  value {\n",
      "    b: false\n",
      "  }\n",
      "}\n",
      "attr {\n",
      "  key: \"metadata\"\n",
      "  value {\n",
      "    s: \"\\n\\024TensorSliceDataset:8\"\n",
      "  }\n",
      "}\n",
      "attr {\n",
      "  key: \"output_shapes\"\n",
      "  value {\n",
      "    list {\n",
      "      shape {\n",
      "        dim {\n",
      "          size: 32\n",
      "        }\n",
      "        dim {\n",
      "          size: 32\n",
      "        }\n",
      "        dim {\n",
      "          size: 3\n",
      "        }\n",
      "      }\n",
      "      shape {\n",
      "        dim {\n",
      "          size: 10\n",
      "        }\n",
      "      }\n",
      "    }\n",
      "  }\n",
      "}\n",
      "attr {\n",
      "  key: \"replicate_on_split\"\n",
      "  value {\n",
      "    b: false\n",
      "  }\n",
      "}\n",
      "experimental_type {\n",
      "  type_id: TFT_PRODUCT\n",
      "  args {\n",
      "    type_id: TFT_DATASET\n",
      "    args {\n",
      "      type_id: TFT_PRODUCT\n",
      "      args {\n",
      "        type_id: TFT_TENSOR\n",
      "        args {\n",
      "          type_id: TFT_DOUBLE\n",
      "        }\n",
      "      }\n",
      "      args {\n",
      "        type_id: TFT_TENSOR\n",
      "        args {\n",
      "          type_id: TFT_FLOAT\n",
      "        }\n",
      "      }\n",
      "    }\n",
      "  }\n",
      "}\n",
      "\n"
     ]
    },
    {
     "name": "stdout",
     "output_type": "stream",
     "text": [
      "Epoch 1/50\n"
     ]
    },
    {
     "name": "stderr",
     "output_type": "stream",
     "text": [
      "2023-09-22 19:09:36.564887: W tensorflow/core/framework/dataset.cc:956] Input of GeneratorDatasetOp::Dataset will not be optimized because the dataset does not implement the AsGraphDefInternal() method needed to apply optimizations.\n"
     ]
    },
    {
     "name": "stdout",
     "output_type": "stream",
     "text": [
      "200/200 [==============================] - 9s 44ms/step - loss: 1.9833 - accuracy: 0.2971\n",
      "Epoch 2/50\n",
      "200/200 [==============================] - 9s 44ms/step - loss: 1.8164 - accuracy: 0.3637\n",
      "Epoch 3/50\n",
      "200/200 [==============================] - 9s 44ms/step - loss: 1.7544 - accuracy: 0.3876\n",
      "Epoch 4/50\n",
      "200/200 [==============================] - 9s 45ms/step - loss: 1.7114 - accuracy: 0.4040\n",
      "Epoch 5/50\n",
      "  2/200 [..............................] - ETA: 10s - loss: 1.6566 - accuracy: 0.4120"
     ]
    },
    {
     "name": "stderr",
     "output_type": "stream",
     "text": [
      "2023-09-22 19:10:13.874863: W tensorflow/core/framework/dataset.cc:956] Input of GeneratorDatasetOp::Dataset will not be optimized because the dataset does not implement the AsGraphDefInternal() method needed to apply optimizations.\n"
     ]
    },
    {
     "name": "stdout",
     "output_type": "stream",
     "text": [
      "200/200 [==============================] - 11s 56ms/step - loss: 1.6772 - accuracy: 0.4147\n",
      "Epoch 6/50\n",
      "200/200 [==============================] - 11s 55ms/step - loss: 1.6481 - accuracy: 0.4254\n",
      "Epoch 7/50\n",
      "200/200 [==============================] - 10s 52ms/step - loss: 1.6229 - accuracy: 0.4347\n",
      "Epoch 8/50\n",
      "  3/200 [..............................] - ETA: 9s - loss: 1.5777 - accuracy: 0.4307 "
     ]
    },
    {
     "name": "stderr",
     "output_type": "stream",
     "text": [
      "2023-09-22 19:10:47.226323: W tensorflow/core/framework/dataset.cc:956] Input of GeneratorDatasetOp::Dataset will not be optimized because the dataset does not implement the AsGraphDefInternal() method needed to apply optimizations.\n"
     ]
    },
    {
     "name": "stdout",
     "output_type": "stream",
     "text": [
      "200/200 [==============================] - 10s 50ms/step - loss: 1.6006 - accuracy: 0.4435\n",
      "Epoch 9/50\n",
      "200/200 [==============================] - 11s 54ms/step - loss: 1.5807 - accuracy: 0.4512\n",
      "Epoch 10/50\n",
      "200/200 [==============================] - 10s 50ms/step - loss: 1.5627 - accuracy: 0.4570\n",
      "Epoch 11/50\n",
      "  3/200 [..............................] - ETA: 9s - loss: 1.5218 - accuracy: 0.4467 "
     ]
    },
    {
     "name": "stderr",
     "output_type": "stream",
     "text": [
      "2023-09-22 19:11:19.067562: W tensorflow/core/framework/dataset.cc:956] Input of GeneratorDatasetOp::Dataset will not be optimized because the dataset does not implement the AsGraphDefInternal() method needed to apply optimizations.\n"
     ]
    },
    {
     "name": "stdout",
     "output_type": "stream",
     "text": [
      "200/200 [==============================] - 10s 50ms/step - loss: 1.5461 - accuracy: 0.4629\n",
      "Epoch 12/50\n",
      "200/200 [==============================] - 10s 49ms/step - loss: 1.5309 - accuracy: 0.4685\n",
      "Epoch 13/50\n",
      "200/200 [==============================] - 10s 50ms/step - loss: 1.5165 - accuracy: 0.4737\n",
      "Epoch 14/50\n",
      "  3/200 [..............................] - ETA: 9s - loss: 1.4784 - accuracy: 0.4587 "
     ]
    },
    {
     "name": "stderr",
     "output_type": "stream",
     "text": [
      "2023-09-22 19:11:49.815450: W tensorflow/core/framework/dataset.cc:956] Input of GeneratorDatasetOp::Dataset will not be optimized because the dataset does not implement the AsGraphDefInternal() method needed to apply optimizations.\n"
     ]
    },
    {
     "name": "stdout",
     "output_type": "stream",
     "text": [
      "200/200 [==============================] - 10s 50ms/step - loss: 1.5030 - accuracy: 0.4774\n",
      "Epoch 15/50\n",
      "200/200 [==============================] - 10s 51ms/step - loss: 1.4902 - accuracy: 0.4822\n",
      "Epoch 16/50\n",
      "200/200 [==============================] - 10s 50ms/step - loss: 1.4779 - accuracy: 0.4865\n",
      "Epoch 17/50\n",
      "  3/200 [..............................] - ETA: 10s - loss: 1.4413 - accuracy: 0.4747"
     ]
    },
    {
     "name": "stderr",
     "output_type": "stream",
     "text": [
      "2023-09-22 19:12:20.905195: W tensorflow/core/framework/dataset.cc:956] Input of GeneratorDatasetOp::Dataset will not be optimized because the dataset does not implement the AsGraphDefInternal() method needed to apply optimizations.\n"
     ]
    },
    {
     "name": "stdout",
     "output_type": "stream",
     "text": [
      "200/200 [==============================] - 11s 52ms/step - loss: 1.4661 - accuracy: 0.4903\n",
      "Epoch 18/50\n",
      "200/200 [==============================] - 10s 50ms/step - loss: 1.4545 - accuracy: 0.4945\n",
      "Epoch 19/50\n",
      "200/200 [==============================] - 10s 50ms/step - loss: 1.4433 - accuracy: 0.4989\n",
      "Epoch 20/50\n",
      "  3/200 [..............................] - ETA: 9s - loss: 1.4078 - accuracy: 0.4853 "
     ]
    },
    {
     "name": "stderr",
     "output_type": "stream",
     "text": [
      "2023-09-22 19:12:52.510839: W tensorflow/core/framework/dataset.cc:956] Input of GeneratorDatasetOp::Dataset will not be optimized because the dataset does not implement the AsGraphDefInternal() method needed to apply optimizations.\n"
     ]
    },
    {
     "name": "stdout",
     "output_type": "stream",
     "text": [
      "200/200 [==============================] - 10s 51ms/step - loss: 1.4326 - accuracy: 0.5026\n",
      "Epoch 21/50\n",
      "200/200 [==============================] - 10s 52ms/step - loss: 1.4220 - accuracy: 0.5063\n",
      "Epoch 22/50\n",
      "200/200 [==============================] - 11s 53ms/step - loss: 1.4116 - accuracy: 0.5098\n",
      "Epoch 23/50\n",
      "  3/200 [..............................] - ETA: 9s - loss: 1.3767 - accuracy: 0.5053 "
     ]
    },
    {
     "name": "stderr",
     "output_type": "stream",
     "text": [
      "2023-09-22 19:13:24.650867: W tensorflow/core/framework/dataset.cc:956] Input of GeneratorDatasetOp::Dataset will not be optimized because the dataset does not implement the AsGraphDefInternal() method needed to apply optimizations.\n"
     ]
    },
    {
     "name": "stdout",
     "output_type": "stream",
     "text": [
      "200/200 [==============================] - 10s 51ms/step - loss: 1.4016 - accuracy: 0.5133\n",
      "Epoch 24/50\n",
      "200/200 [==============================] - 10s 51ms/step - loss: 1.3918 - accuracy: 0.5166\n",
      "Epoch 25/50\n",
      "200/200 [==============================] - 10s 51ms/step - loss: 1.3821 - accuracy: 0.5197\n",
      "Epoch 26/50\n",
      "  3/200 [..............................] - ETA: 10s - loss: 1.3478 - accuracy: 0.5173"
     ]
    },
    {
     "name": "stderr",
     "output_type": "stream",
     "text": [
      "2023-09-22 19:13:56.041641: W tensorflow/core/framework/dataset.cc:956] Input of GeneratorDatasetOp::Dataset will not be optimized because the dataset does not implement the AsGraphDefInternal() method needed to apply optimizations.\n"
     ]
    },
    {
     "name": "stdout",
     "output_type": "stream",
     "text": [
      "200/200 [==============================] - 10s 51ms/step - loss: 1.3727 - accuracy: 0.5228\n",
      "Epoch 27/50\n",
      "200/200 [==============================] - 11s 55ms/step - loss: 1.3635 - accuracy: 0.5260\n",
      "Epoch 28/50\n",
      "200/200 [==============================] - 11s 56ms/step - loss: 1.3544 - accuracy: 0.5292\n",
      "Epoch 29/50\n",
      "  3/200 [..............................] - ETA: 9s - loss: 1.3205 - accuracy: 0.5253 "
     ]
    },
    {
     "name": "stderr",
     "output_type": "stream",
     "text": [
      "2023-09-22 19:14:29.120240: W tensorflow/core/framework/dataset.cc:956] Input of GeneratorDatasetOp::Dataset will not be optimized because the dataset does not implement the AsGraphDefInternal() method needed to apply optimizations.\n"
     ]
    },
    {
     "name": "stdout",
     "output_type": "stream",
     "text": [
      "200/200 [==============================] - 11s 53ms/step - loss: 1.3456 - accuracy: 0.5322\n",
      "Epoch 30/50\n",
      "200/200 [==============================] - 10s 51ms/step - loss: 1.3368 - accuracy: 0.5354\n",
      "Epoch 31/50\n",
      "200/200 [==============================] - 10s 51ms/step - loss: 1.3282 - accuracy: 0.5378\n",
      "Epoch 32/50\n",
      "  3/200 [..............................] - ETA: 9s - loss: 1.2946 - accuracy: 0.5360 "
     ]
    },
    {
     "name": "stderr",
     "output_type": "stream",
     "text": [
      "2023-09-22 19:15:00.844036: W tensorflow/core/framework/dataset.cc:956] Input of GeneratorDatasetOp::Dataset will not be optimized because the dataset does not implement the AsGraphDefInternal() method needed to apply optimizations.\n"
     ]
    },
    {
     "name": "stdout",
     "output_type": "stream",
     "text": [
      "200/200 [==============================] - 10s 51ms/step - loss: 1.3197 - accuracy: 0.5412\n",
      "Epoch 33/50\n",
      "200/200 [==============================] - 10s 52ms/step - loss: 1.3114 - accuracy: 0.5447\n",
      "Epoch 34/50\n",
      "200/200 [==============================] - 11s 53ms/step - loss: 1.3033 - accuracy: 0.5470\n",
      "Epoch 35/50\n",
      "  3/200 [..............................] - ETA: 9s - loss: 1.2711 - accuracy: 0.5560 "
     ]
    },
    {
     "name": "stderr",
     "output_type": "stream",
     "text": [
      "2023-09-22 19:15:32.896661: W tensorflow/core/framework/dataset.cc:956] Input of GeneratorDatasetOp::Dataset will not be optimized because the dataset does not implement the AsGraphDefInternal() method needed to apply optimizations.\n"
     ]
    },
    {
     "name": "stdout",
     "output_type": "stream",
     "text": [
      "200/200 [==============================] - 10s 51ms/step - loss: 1.2953 - accuracy: 0.5501\n",
      "Epoch 36/50\n",
      "200/200 [==============================] - 10s 50ms/step - loss: 1.2875 - accuracy: 0.5532\n",
      "Epoch 37/50\n",
      "200/200 [==============================] - 11s 53ms/step - loss: 1.2798 - accuracy: 0.5560\n",
      "Epoch 38/50\n",
      "  2/200 [..............................] - ETA: 9s - loss: 1.2304 - accuracy: 0.5860 "
     ]
    },
    {
     "name": "stderr",
     "output_type": "stream",
     "text": [
      "2023-09-22 19:16:04.528734: W tensorflow/core/framework/dataset.cc:956] Input of GeneratorDatasetOp::Dataset will not be optimized because the dataset does not implement the AsGraphDefInternal() method needed to apply optimizations.\n"
     ]
    },
    {
     "name": "stdout",
     "output_type": "stream",
     "text": [
      "200/200 [==============================] - 10s 52ms/step - loss: 1.2720 - accuracy: 0.5586\n",
      "Epoch 39/50\n",
      "200/200 [==============================] - 11s 53ms/step - loss: 1.2646 - accuracy: 0.5612\n",
      "Epoch 40/50\n",
      "200/200 [==============================] - 11s 53ms/step - loss: 1.2572 - accuracy: 0.5639\n",
      "Epoch 41/50\n",
      "  3/200 [..............................] - ETA: 9s - loss: 1.2245 - accuracy: 0.5867 "
     ]
    },
    {
     "name": "stderr",
     "output_type": "stream",
     "text": [
      "2023-09-22 19:16:36.819841: W tensorflow/core/framework/dataset.cc:956] Input of GeneratorDatasetOp::Dataset will not be optimized because the dataset does not implement the AsGraphDefInternal() method needed to apply optimizations.\n"
     ]
    },
    {
     "name": "stdout",
     "output_type": "stream",
     "text": [
      "200/200 [==============================] - 10s 52ms/step - loss: 1.2498 - accuracy: 0.5667\n",
      "Epoch 42/50\n",
      "200/200 [==============================] - 11s 53ms/step - loss: 1.2426 - accuracy: 0.5691\n",
      "Epoch 43/50\n",
      "200/200 [==============================] - 11s 53ms/step - loss: 1.2354 - accuracy: 0.5715\n",
      "Epoch 44/50\n",
      "  2/200 [..............................] - ETA: 10s - loss: 1.1837 - accuracy: 0.6020"
     ]
    },
    {
     "name": "stderr",
     "output_type": "stream",
     "text": [
      "2023-09-22 19:17:09.259600: W tensorflow/core/framework/dataset.cc:956] Input of GeneratorDatasetOp::Dataset will not be optimized because the dataset does not implement the AsGraphDefInternal() method needed to apply optimizations.\n"
     ]
    },
    {
     "name": "stdout",
     "output_type": "stream",
     "text": [
      "200/200 [==============================] - 11s 53ms/step - loss: 1.2282 - accuracy: 0.5746\n",
      "Epoch 45/50\n",
      "200/200 [==============================] - 11s 53ms/step - loss: 1.2212 - accuracy: 0.5768\n",
      "Epoch 46/50\n",
      "200/200 [==============================] - 10s 52ms/step - loss: 1.2143 - accuracy: 0.5793\n",
      "Epoch 47/50\n",
      "  3/200 [..............................] - ETA: 9s - loss: 1.1802 - accuracy: 0.5973 "
     ]
    },
    {
     "name": "stderr",
     "output_type": "stream",
     "text": [
      "2023-09-22 19:17:41.681041: W tensorflow/core/framework/dataset.cc:956] Input of GeneratorDatasetOp::Dataset will not be optimized because the dataset does not implement the AsGraphDefInternal() method needed to apply optimizations.\n"
     ]
    },
    {
     "name": "stdout",
     "output_type": "stream",
     "text": [
      "200/200 [==============================] - 10s 51ms/step - loss: 1.2073 - accuracy: 0.5816\n",
      "Epoch 48/50\n",
      "200/200 [==============================] - 10s 52ms/step - loss: 1.2005 - accuracy: 0.5843\n",
      "Epoch 49/50\n",
      "200/200 [==============================] - 11s 53ms/step - loss: 1.1939 - accuracy: 0.5868\n",
      "Epoch 50/50\n",
      "  3/200 [..............................] - ETA: 9s - loss: 1.1589 - accuracy: 0.6107 "
     ]
    },
    {
     "name": "stderr",
     "output_type": "stream",
     "text": [
      "2023-09-22 19:18:13.893918: W tensorflow/core/framework/dataset.cc:956] Input of GeneratorDatasetOp::Dataset will not be optimized because the dataset does not implement the AsGraphDefInternal() method needed to apply optimizations.\n"
     ]
    },
    {
     "name": "stdout",
     "output_type": "stream",
     "text": [
      "200/200 [==============================] - 11s 53ms/step - loss: 1.1870 - accuracy: 0.5892\n"
     ]
    }
   ],
   "source": [
    "with strategy.scope():\n",
    "    gpu_model = get_model()\n",
    "    gpu_model.fit(train_dataset, epochs=50)\n"
   ]
  },
  {
   "cell_type": "code",
   "execution_count": null,
   "id": "8f4b3eb5-61b8-448d-9ee4-bce03f149f47",
   "metadata": {},
   "outputs": [],
   "source": []
  }
 ],
 "metadata": {
  "kernelspec": {
   "display_name": "Python 3 (ipykernel)",
   "language": "python",
   "name": "python3"
  },
  "language_info": {
   "codemirror_mode": {
    "name": "ipython",
    "version": 3
   },
   "file_extension": ".py",
   "mimetype": "text/x-python",
   "name": "python",
   "nbconvert_exporter": "python",
   "pygments_lexer": "ipython3",
   "version": "3.11.4"
  }
 },
 "nbformat": 4,
 "nbformat_minor": 5
}
