{
 "cells": [
  {
   "cell_type": "code",
   "execution_count": 35,
   "id": "750e52a9-3f7d-4b50-b262-2597de30008e",
   "metadata": {},
   "outputs": [],
   "source": [
    "import tensorflow as tf\n",
    "import timeit"
   ]
  },
  {
   "cell_type": "code",
   "execution_count": 36,
   "id": "26a367d4-ef41-4e88-8266-06c67a90bdb3",
   "metadata": {},
   "outputs": [
    {
     "data": {
      "text/plain": [
       "'2.13.0'"
      ]
     },
     "execution_count": 36,
     "metadata": {},
     "output_type": "execute_result"
    }
   ],
   "source": [
    "tf.__version__"
   ]
  },
  {
   "cell_type": "code",
   "execution_count": 37,
   "id": "0cb67681-77e6-4d4c-bb87-2528ff753dd5",
   "metadata": {},
   "outputs": [],
   "source": [
    "#Creating a class\n",
    "class FileDataset(tf.data.Dataset):\n",
    "    def read_files_in_batches(num_samples):\n",
    "        #open file\n",
    "        time.sleep(0.03) #Reading the file\n",
    "        for sample_idx in range(num_samples):\n",
    "            time.sleep(0.015)\n",
    "            #yield is a generator\n",
    "            yield(sample_idx,)\n",
    "\n",
    "    def __new__(cls,num_samples=3):\n",
    "        return tf.data.Dataset.from_generator(\n",
    "            cls.read_files_in_batches,\n",
    "            output_signature = tf.TensorSpec(shape = (1,), dtype = tf.int64),args=(num_samples,)\n",
    "        )\n",
    "       "
   ]
  },
  {
   "cell_type": "code",
   "execution_count": 38,
   "id": "bc88ea80-3466-47c2-8f31-a421e8b263d2",
   "metadata": {},
   "outputs": [],
   "source": [
    "def benchmark(dataset, num_epochs=2):\n",
    "    for epoch_num in range(num_epochs):  \n",
    "        for sample in dataset:\n",
    "            time.sleep(0.01) "
   ]
  },
  {
   "cell_type": "code",
   "execution_count": 39,
   "id": "5d0a6489-7496-4fa4-aeb9-67d06af293dd",
   "metadata": {},
   "outputs": [
    {
     "name": "stdout",
     "output_type": "stream",
     "text": [
      "292 ms ± 4.54 ms per loop (mean ± std. dev. of 7 runs, 1 loop each)\n"
     ]
    }
   ],
   "source": [
    "%%timeit\n",
    "benchmark(FileDataset()) #Read files in batches : While CPU was reading GPU was training"
   ]
  },
  {
   "cell_type": "code",
   "execution_count": 40,
   "id": "ddb2c94b-3159-4ccd-814f-26b64ed6d801",
   "metadata": {},
   "outputs": [
    {
     "name": "stdout",
     "output_type": "stream",
     "text": [
      "290 ms ± 8.15 ms per loop (mean ± std. dev. of 7 runs, 1 loop each)\n"
     ]
    }
   ],
   "source": [
    "%%timeit   #Use prefetch() API to chcek how it increases the performance\n",
    "benchmark(FileDataset().prefetch(1))"
   ]
  },
  {
   "cell_type": "code",
   "execution_count": 43,
   "id": "9670dd9f-92ea-4739-bcf2-400f9c2ea096",
   "metadata": {},
   "outputs": [
    {
     "name": "stdout",
     "output_type": "stream",
     "text": [
      "287 ms ± 13.2 ms per loop (mean ± std. dev. of 7 runs, 1 loop each)\n"
     ]
    }
   ],
   "source": [
    "%%timeit\n",
    "benchmark(FileDataset().prefetch(tf.data.AUTOTUNE))"
   ]
  },
  {
   "cell_type": "markdown",
   "id": "1d3c6ef7-be88-4601-a89e-ced30dbd446c",
   "metadata": {},
   "source": [
    "#### Cache "
   ]
  },
  {
   "cell_type": "code",
   "execution_count": 45,
   "id": "e5da449a-2772-4910-ba11-45ac01a87d54",
   "metadata": {},
   "outputs": [
    {
     "name": "stdout",
     "output_type": "stream",
     "text": [
      "0\n",
      "1\n",
      "2\n",
      "3\n",
      "4\n"
     ]
    }
   ],
   "source": [
    "dataset = tf.data.Dataset.range(5)\n",
    "for d in dataset:\n",
    "    print(d.numpy())"
   ]
  },
  {
   "cell_type": "code",
   "execution_count": 46,
   "id": "0788383d-ff73-49ba-8c76-3524bab25d26",
   "metadata": {},
   "outputs": [
    {
     "name": "stdout",
     "output_type": "stream",
     "text": [
      "0\n",
      "1\n",
      "4\n",
      "9\n",
      "16\n"
     ]
    }
   ],
   "source": [
    "dataset = dataset.map(lambda x:x**2)\n",
    "for d in dataset:\n",
    "    print(d.numpy())"
   ]
  },
  {
   "cell_type": "code",
   "execution_count": 49,
   "id": "ea87014e-8b59-4b9e-9c65-c6e960bc4ca8",
   "metadata": {},
   "outputs": [
    {
     "data": {
      "text/plain": [
       "[0, 1, 4, 9, 16]"
      ]
     },
     "execution_count": 49,
     "metadata": {},
     "output_type": "execute_result"
    }
   ],
   "source": [
    "dataset = dataset.cache()\n",
    "list(dataset.as_numpy_iterator())\n"
   ]
  },
  {
   "cell_type": "code",
   "execution_count": 50,
   "id": "91c72a6a-c32e-4511-92b0-94e33bc3362f",
   "metadata": {},
   "outputs": [
    {
     "data": {
      "text/plain": [
       "[0, 1, 4, 9, 16]"
      ]
     },
     "execution_count": 50,
     "metadata": {},
     "output_type": "execute_result"
    }
   ],
   "source": [
    "list(dataset.as_numpy_iterator()) #Reading from cache"
   ]
  },
  {
   "cell_type": "code",
   "execution_count": 52,
   "id": "0c4976f0-7f03-46fc-821b-5c7b49a8ca46",
   "metadata": {},
   "outputs": [],
   "source": [
    "def mapped_function(s):\n",
    "    tf.py_function(lambda:time.sleep(0.03),[],())\n",
    "    return s"
   ]
  },
  {
   "cell_type": "code",
   "execution_count": 54,
   "id": "7bfee055-6d67-4d9e-a16d-d775b60ac09c",
   "metadata": {},
   "outputs": [
    {
     "name": "stdout",
     "output_type": "stream",
     "text": [
      "1.21 s ± 12.6 ms per loop (mean ± std. dev. of 7 runs, 1 loop each)\n"
     ]
    }
   ],
   "source": [
    "%%timeit\n",
    "benchmark(FileDataset().map(mapped_function),5)"
   ]
  },
  {
   "cell_type": "code",
   "execution_count": 55,
   "id": "b2dd1365-2c47-4c0f-9954-41a1f10e71db",
   "metadata": {},
   "outputs": [
    {
     "name": "stdout",
     "output_type": "stream",
     "text": [
      "423 ms ± 5.09 ms per loop (mean ± std. dev. of 7 runs, 1 loop each)\n"
     ]
    }
   ],
   "source": [
    "%%timeit #Not calling the map functio for 2nd, 3rd..epochs, using the map data in the catche\n",
    "benchmark(FileDataset().map(mapped_function).cache(),5)"
   ]
  },
  {
   "cell_type": "code",
   "execution_count": null,
   "id": "31279723-73c8-4a0c-8d76-36ae87ce3f11",
   "metadata": {},
   "outputs": [],
   "source": []
  }
 ],
 "metadata": {
  "kernelspec": {
   "display_name": "Python 3 (ipykernel)",
   "language": "python",
   "name": "python3"
  },
  "language_info": {
   "codemirror_mode": {
    "name": "ipython",
    "version": 3
   },
   "file_extension": ".py",
   "mimetype": "text/x-python",
   "name": "python",
   "nbconvert_exporter": "python",
   "pygments_lexer": "ipython3",
   "version": "3.11.4"
  }
 },
 "nbformat": 4,
 "nbformat_minor": 5
}
