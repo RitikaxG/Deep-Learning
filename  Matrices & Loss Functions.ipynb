{
 "cells": [
  {
   "cell_type": "markdown",
   "id": "1589fe36",
   "metadata": {},
   "source": [
    "# Matrices"
   ]
  },
  {
   "cell_type": "code",
   "execution_count": 108,
   "id": "287ab0c8",
   "metadata": {},
   "outputs": [],
   "source": [
    "import numpy as np"
   ]
  },
  {
   "cell_type": "code",
   "execution_count": 109,
   "id": "09a96a23",
   "metadata": {},
   "outputs": [],
   "source": [
    "#Numpy array\n",
    "revenue= np.array([[180,200,220],[24,36,40],[12,18,20]])\n",
    "expenses = np.array([[80,90,100],[10,16,20],[8,10,10]])"
   ]
  },
  {
   "cell_type": "code",
   "execution_count": 110,
   "id": "c0daea57",
   "metadata": {},
   "outputs": [
    {
     "data": {
      "text/plain": [
       "array([[100, 110, 120],\n",
       "       [ 14,  20,  20],\n",
       "       [  4,   8,  10]])"
      ]
     },
     "execution_count": 110,
     "metadata": {},
     "output_type": "execute_result"
    }
   ],
   "source": [
    "profit = revenue - expenses\n",
    "profit"
   ]
  },
  {
   "cell_type": "markdown",
   "id": "6580175c",
   "metadata": {},
   "source": [
    " + Broadcasting in numpy: If shape of 2 matrix is not same it will try to expand it.\n",
    "+ price_per_unit=np.array([[1000,400,220],[1000,400,220],[1000,400,220]])\n",
    "* So, we use np.dot()"
   ]
  },
  {
   "cell_type": "code",
   "execution_count": 111,
   "id": "ba3167da",
   "metadata": {},
   "outputs": [],
   "source": [
    "price_per_unit = np.array([1000,400,1200])\n",
    "units = np.array([[30,40,50],[5,10,15],[2,5,7]])"
   ]
  },
  {
   "cell_type": "code",
   "execution_count": 112,
   "id": "cac9f4e7",
   "metadata": {},
   "outputs": [
    {
     "data": {
      "text/plain": [
       "array([34400, 50000, 64400])"
      ]
     },
     "execution_count": 112,
     "metadata": {},
     "output_type": "execute_result"
    }
   ],
   "source": [
    "np.dot(price_per_unit,units)"
   ]
  },
  {
   "cell_type": "markdown",
   "id": "17f5b8a6",
   "metadata": {},
   "source": [
    "## Exercise"
   ]
  },
  {
   "cell_type": "code",
   "execution_count": 113,
   "id": "42e70429",
   "metadata": {},
   "outputs": [],
   "source": [
    "revenue_in_usd=np.array([[200,220,250],[68,79,105],[110,140,180],[80,85,90]])"
   ]
  },
  {
   "cell_type": "code",
   "execution_count": 114,
   "id": "6647694a",
   "metadata": {},
   "outputs": [
    {
     "data": {
      "text/plain": [
       "array([[16000, 17600, 20000],\n",
       "       [ 5440,  6320,  8400],\n",
       "       [ 8800, 11200, 14400],\n",
       "       [ 6400,  6800,  7200]])"
      ]
     },
     "execution_count": 114,
     "metadata": {},
     "output_type": "execute_result"
    }
   ],
   "source": [
    "revenue_in_rupees = revenue_in_usd*80\n",
    "revenue_in_rupees"
   ]
  },
  {
   "cell_type": "code",
   "execution_count": 115,
   "id": "e0cac904",
   "metadata": {},
   "outputs": [],
   "source": [
    "price_per_unit=([20,30,15])\n",
    "units_sold = ([[50,60,25],[10,13,5],[40,70,52]])"
   ]
  },
  {
   "cell_type": "code",
   "execution_count": 116,
   "id": "0752ebf0",
   "metadata": {},
   "outputs": [
    {
     "data": {
      "text/plain": [
       "array([1900, 2640, 1430])"
      ]
     },
     "execution_count": 116,
     "metadata": {},
     "output_type": "execute_result"
    }
   ],
   "source": [
    "np.dot(price_per_unit,units_sold)"
   ]
  },
  {
   "cell_type": "markdown",
   "id": "aee16259",
   "metadata": {},
   "source": [
    "# Loss or Cost Function"
   ]
  },
  {
   "cell_type": "markdown",
   "id": "56f5e42c",
   "metadata": {},
   "source": [
    "## Mean Absolute Error"
   ]
  },
  {
   "cell_type": "code",
   "execution_count": 117,
   "id": "16c504f4",
   "metadata": {},
   "outputs": [],
   "source": [
    "import numpy as np\n",
    "y_predicted = np.array([1,1,0,0,1])\n",
    "y_true = np.array([0.30,0.7,1,0,0.5])"
   ]
  },
  {
   "cell_type": "code",
   "execution_count": 118,
   "id": "208f3752",
   "metadata": {},
   "outputs": [],
   "source": [
    "def mae(y_true,y_predicted):\n",
    "    total_error = 0\n",
    "    #Gives one value from both array for each iteration\n",
    "    for yt,yp in zip(y_true,y_predicted):\n",
    "        total_error+=abs(yt-yp)\n",
    "    print(\"Total error:\",total_error)\n",
    "    mae = total_error/len(y_true)\n",
    "    print(\"MAE:\",mae)\n",
    "    return mae"
   ]
  },
  {
   "cell_type": "code",
   "execution_count": 119,
   "id": "f3339566",
   "metadata": {},
   "outputs": [
    {
     "name": "stdout",
     "output_type": "stream",
     "text": [
      "Total error: 2.5\n",
      "MAE: 0.5\n"
     ]
    },
    {
     "data": {
      "text/plain": [
       "0.5"
      ]
     },
     "execution_count": 119,
     "metadata": {},
     "output_type": "execute_result"
    }
   ],
   "source": [
    "mae(y_true,y_predicted)"
   ]
  },
  {
   "cell_type": "code",
   "execution_count": 120,
   "id": "be915b5e",
   "metadata": {},
   "outputs": [
    {
     "data": {
      "text/plain": [
       "0.5"
      ]
     },
     "execution_count": 120,
     "metadata": {},
     "output_type": "execute_result"
    }
   ],
   "source": [
    "#Mean Absolute Error using numpy\n",
    "np.mean(np.abs(y_predicted - y_true))"
   ]
  },
  {
   "cell_type": "code",
   "execution_count": 121,
   "id": "f4dd3dde",
   "metadata": {},
   "outputs": [],
   "source": [
    "def mae_np(y_true,y_predicted):\n",
    "    return np.mean(np.abs(y_predicted-y_true))"
   ]
  },
  {
   "cell_type": "code",
   "execution_count": 122,
   "id": "78e049c5",
   "metadata": {},
   "outputs": [
    {
     "data": {
      "text/plain": [
       "0.5"
      ]
     },
     "execution_count": 122,
     "metadata": {},
     "output_type": "execute_result"
    }
   ],
   "source": [
    "mae_np(y_predicted,y_true)"
   ]
  },
  {
   "cell_type": "markdown",
   "id": "7f9700b3",
   "metadata": {},
   "source": [
    "## Mean Squared Error(MSE)"
   ]
  },
  {
   "cell_type": "code",
   "execution_count": 123,
   "id": "f73c74a5",
   "metadata": {},
   "outputs": [],
   "source": [
    "def mse(y_true,y_predicted):\n",
    "    total_error=0\n",
    "    for yt,yp in zip(y_true,y_predicted):\n",
    "        total_error+=pow(yp-yt\n",
    "                         ,2)\n",
    "    print(\"Total Error:\",total_error)\n",
    "    mse= total_error/len(y_true)\n",
    "    print(\"MSE:\",mse)\n",
    "    return mse"
   ]
  },
  {
   "cell_type": "code",
   "execution_count": 124,
   "id": "aed2bd08",
   "metadata": {},
   "outputs": [
    {
     "name": "stdout",
     "output_type": "stream",
     "text": [
      "Total Error: 1.83\n",
      "MSE: 0.366\n"
     ]
    },
    {
     "data": {
      "text/plain": [
       "0.366"
      ]
     },
     "execution_count": 124,
     "metadata": {},
     "output_type": "execute_result"
    }
   ],
   "source": [
    "mse(y_true,y_predicted)"
   ]
  },
  {
   "cell_type": "code",
   "execution_count": 151,
   "id": "887df442",
   "metadata": {},
   "outputs": [
    {
     "data": {
      "text/plain": [
       "0.366"
      ]
     },
     "execution_count": 151,
     "metadata": {},
     "output_type": "execute_result"
    }
   ],
   "source": [
    "#Using numpy\n",
    "np.mean(np.power(y_predicted-y_true,2))"
   ]
  },
  {
   "cell_type": "markdown",
   "id": "33a297eb",
   "metadata": {},
   "source": [
    "## Log Function"
   ]
  },
  {
   "cell_type": "code",
   "execution_count": 125,
   "id": "055a4fb6",
   "metadata": {},
   "outputs": [
    {
     "data": {
      "text/plain": [
       "array([-41.44653167])"
      ]
     },
     "execution_count": 125,
     "metadata": {},
     "output_type": "execute_result"
    }
   ],
   "source": [
    "#Take a value which is very close to 0 but not 0 or else it would be not defined\n",
    "np.log([0.000000000000000001])"
   ]
  },
  {
   "cell_type": "code",
   "execution_count": 126,
   "id": "c84abb75",
   "metadata": {},
   "outputs": [],
   "source": [
    "y_predicted = np.array(y_predicted)"
   ]
  },
  {
   "cell_type": "code",
   "execution_count": 127,
   "id": "fe61faed",
   "metadata": {},
   "outputs": [],
   "source": [
    "#If you have value 1 in y_pred it will replace it to close to 1 so as to avoid log[0] condn\n",
    "epsilon=1e-15"
   ]
  },
  {
   "cell_type": "code",
   "execution_count": 135,
   "id": "54fe5dc0",
   "metadata": {},
   "outputs": [
    {
     "data": {
      "text/plain": [
       "array([1.e+00, 1.e+00, 1.e-15, 1.e-15, 1.e+00])"
      ]
     },
     "execution_count": 135,
     "metadata": {},
     "output_type": "execute_result"
    }
   ],
   "source": [
    "y_predicted_new=np.maximum(y_predicted,epsilon)\n",
    "y_predicted_new"
   ]
  },
  {
   "cell_type": "code",
   "execution_count": 136,
   "id": "bae3fbd4",
   "metadata": {},
   "outputs": [],
   "source": [
    "y_predicted_new=[min(i,1-epsilon) for i in y_predicted_new]"
   ]
  },
  {
   "cell_type": "code",
   "execution_count": 137,
   "id": "d42b8a81",
   "metadata": {},
   "outputs": [
    {
     "data": {
      "text/plain": [
       "[0.999999999999999, 0.999999999999999, 1e-15, 1e-15, 0.999999999999999]"
      ]
     },
     "execution_count": 137,
     "metadata": {},
     "output_type": "execute_result"
    }
   ],
   "source": [
    "y_predicted_new"
   ]
  },
  {
   "cell_type": "code",
   "execution_count": 138,
   "id": "affb44fc",
   "metadata": {},
   "outputs": [],
   "source": [
    "y_predicted_new= np.array(y_predicted_new)"
   ]
  },
  {
   "cell_type": "code",
   "execution_count": 139,
   "id": "3d24975c",
   "metadata": {},
   "outputs": [
    {
     "data": {
      "text/plain": [
       "array([-9.99200722e-16, -9.99200722e-16, -3.45387764e+01, -3.45387764e+01,\n",
       "       -9.99200722e-16])"
      ]
     },
     "execution_count": 139,
     "metadata": {},
     "output_type": "execute_result"
    }
   ],
   "source": [
    "np.log(y_predicted_new)"
   ]
  },
  {
   "cell_type": "markdown",
   "id": "4ececa0b",
   "metadata": {},
   "source": [
    "## Log Loss"
   ]
  },
  {
   "cell_type": "code",
   "execution_count": 146,
   "id": "119ad472",
   "metadata": {},
   "outputs": [],
   "source": [
    "\n",
    "def log_loss(y_true, y_predicted):\n",
    "    epsilon = 1e-15\n",
    "    y_predicted_new = np.clip(y_predicted, epsilon, 1 - epsilon)  # Use np.clip to ensure values are within range\n",
    "    y_predicted_new = np.array(y_predicted_new)\n",
    "    \n",
    "    # Calculate the logarithmic loss with small value added to avoid log(0)\n",
    "    loss = -np.mean(y_true * np.log(y_predicted_new + epsilon) + (1 - y_true) * np.log(1 - y_predicted_new + epsilon))\n",
    "    \n",
    "    return loss\n"
   ]
  },
  {
   "cell_type": "code",
   "execution_count": 147,
   "id": "bc472475",
   "metadata": {},
   "outputs": [
    {
     "data": {
      "text/plain": [
       "16.922934522814046"
      ]
     },
     "execution_count": 147,
     "metadata": {},
     "output_type": "execute_result"
    }
   ],
   "source": [
    "log_loss(y_true,y_predicted)"
   ]
  },
  {
   "cell_type": "code",
   "execution_count": null,
   "id": "74a326a1",
   "metadata": {},
   "outputs": [],
   "source": []
  },
  {
   "cell_type": "code",
   "execution_count": null,
   "id": "8fba3a80",
   "metadata": {},
   "outputs": [],
   "source": []
  }
 ],
 "metadata": {
  "kernelspec": {
   "display_name": "Python 3 (ipykernel)",
   "language": "python",
   "name": "python3"
  },
  "language_info": {
   "codemirror_mode": {
    "name": "ipython",
    "version": 3
   },
   "file_extension": ".py",
   "mimetype": "text/x-python",
   "name": "python",
   "nbconvert_exporter": "python",
   "pygments_lexer": "ipython3",
   "version": "3.11.4"
  }
 },
 "nbformat": 4,
 "nbformat_minor": 5
}
