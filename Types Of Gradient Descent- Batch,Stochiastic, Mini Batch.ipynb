{
 "cells": [
  {
   "cell_type": "code",
   "execution_count": 104,
   "id": "85695404",
   "metadata": {},
   "outputs": [],
   "source": [
    "import pandas as pd\n",
    "import numpy as np\n",
    "from matplotlib import pyplot as plt\n",
    "%matplotlib inline"
   ]
  },
  {
   "cell_type": "code",
   "execution_count": 105,
   "id": "ed67aa4a",
   "metadata": {},
   "outputs": [
    {
     "data": {
      "text/html": [
       "<div>\n",
       "<style scoped>\n",
       "    .dataframe tbody tr th:only-of-type {\n",
       "        vertical-align: middle;\n",
       "    }\n",
       "\n",
       "    .dataframe tbody tr th {\n",
       "        vertical-align: top;\n",
       "    }\n",
       "\n",
       "    .dataframe thead th {\n",
       "        text-align: right;\n",
       "    }\n",
       "</style>\n",
       "<table border=\"1\" class=\"dataframe\">\n",
       "  <thead>\n",
       "    <tr style=\"text-align: right;\">\n",
       "      <th></th>\n",
       "      <th>area</th>\n",
       "      <th>bedrooms</th>\n",
       "      <th>price</th>\n",
       "    </tr>\n",
       "  </thead>\n",
       "  <tbody>\n",
       "    <tr>\n",
       "      <th>13</th>\n",
       "      <td>1100</td>\n",
       "      <td>2</td>\n",
       "      <td>40.0</td>\n",
       "    </tr>\n",
       "    <tr>\n",
       "      <th>14</th>\n",
       "      <td>2250</td>\n",
       "      <td>3</td>\n",
       "      <td>101.0</td>\n",
       "    </tr>\n",
       "    <tr>\n",
       "      <th>17</th>\n",
       "      <td>1540</td>\n",
       "      <td>3</td>\n",
       "      <td>60.0</td>\n",
       "    </tr>\n",
       "    <tr>\n",
       "      <th>18</th>\n",
       "      <td>2770</td>\n",
       "      <td>3</td>\n",
       "      <td>102.0</td>\n",
       "    </tr>\n",
       "    <tr>\n",
       "      <th>7</th>\n",
       "      <td>3300</td>\n",
       "      <td>4</td>\n",
       "      <td>155.0</td>\n",
       "    </tr>\n",
       "    <tr>\n",
       "      <th>4</th>\n",
       "      <td>1200</td>\n",
       "      <td>2</td>\n",
       "      <td>51.0</td>\n",
       "    </tr>\n",
       "    <tr>\n",
       "      <th>8</th>\n",
       "      <td>1310</td>\n",
       "      <td>3</td>\n",
       "      <td>50.0</td>\n",
       "    </tr>\n",
       "    <tr>\n",
       "      <th>3</th>\n",
       "      <td>1521</td>\n",
       "      <td>3</td>\n",
       "      <td>75.0</td>\n",
       "    </tr>\n",
       "    <tr>\n",
       "      <th>19</th>\n",
       "      <td>800</td>\n",
       "      <td>1</td>\n",
       "      <td>32.0</td>\n",
       "    </tr>\n",
       "  </tbody>\n",
       "</table>\n",
       "</div>"
      ],
      "text/plain": [
       "    area  bedrooms  price\n",
       "13  1100         2   40.0\n",
       "14  2250         3  101.0\n",
       "17  1540         3   60.0\n",
       "18  2770         3  102.0\n",
       "7   3300         4  155.0\n",
       "4   1200         2   51.0\n",
       "8   1310         3   50.0\n",
       "3   1521         3   75.0\n",
       "19   800         1   32.0"
      ]
     },
     "execution_count": 105,
     "metadata": {},
     "output_type": "execute_result"
    }
   ],
   "source": [
    "df= pd.read_csv(\"homeprices_banglore.csv\")\n",
    "df.sample(9)"
   ]
  },
  {
   "cell_type": "code",
   "execution_count": 106,
   "id": "4f203da8",
   "metadata": {},
   "outputs": [
    {
     "data": {
      "text/html": [
       "<div>\n",
       "<style scoped>\n",
       "    .dataframe tbody tr th:only-of-type {\n",
       "        vertical-align: middle;\n",
       "    }\n",
       "\n",
       "    .dataframe tbody tr th {\n",
       "        vertical-align: top;\n",
       "    }\n",
       "\n",
       "    .dataframe thead th {\n",
       "        text-align: right;\n",
       "    }\n",
       "</style>\n",
       "<table border=\"1\" class=\"dataframe\">\n",
       "  <thead>\n",
       "    <tr style=\"text-align: right;\">\n",
       "      <th></th>\n",
       "      <th>area</th>\n",
       "      <th>bedrooms</th>\n",
       "    </tr>\n",
       "  </thead>\n",
       "  <tbody>\n",
       "    <tr>\n",
       "      <th>0</th>\n",
       "      <td>1056</td>\n",
       "      <td>2</td>\n",
       "    </tr>\n",
       "    <tr>\n",
       "      <th>1</th>\n",
       "      <td>2600</td>\n",
       "      <td>4</td>\n",
       "    </tr>\n",
       "    <tr>\n",
       "      <th>2</th>\n",
       "      <td>1440</td>\n",
       "      <td>3</td>\n",
       "    </tr>\n",
       "    <tr>\n",
       "      <th>3</th>\n",
       "      <td>1521</td>\n",
       "      <td>3</td>\n",
       "    </tr>\n",
       "    <tr>\n",
       "      <th>4</th>\n",
       "      <td>1200</td>\n",
       "      <td>2</td>\n",
       "    </tr>\n",
       "    <tr>\n",
       "      <th>5</th>\n",
       "      <td>1170</td>\n",
       "      <td>2</td>\n",
       "    </tr>\n",
       "    <tr>\n",
       "      <th>6</th>\n",
       "      <td>2732</td>\n",
       "      <td>4</td>\n",
       "    </tr>\n",
       "    <tr>\n",
       "      <th>7</th>\n",
       "      <td>3300</td>\n",
       "      <td>4</td>\n",
       "    </tr>\n",
       "    <tr>\n",
       "      <th>8</th>\n",
       "      <td>1310</td>\n",
       "      <td>3</td>\n",
       "    </tr>\n",
       "    <tr>\n",
       "      <th>9</th>\n",
       "      <td>3700</td>\n",
       "      <td>5</td>\n",
       "    </tr>\n",
       "    <tr>\n",
       "      <th>10</th>\n",
       "      <td>1800</td>\n",
       "      <td>3</td>\n",
       "    </tr>\n",
       "    <tr>\n",
       "      <th>11</th>\n",
       "      <td>2785</td>\n",
       "      <td>4</td>\n",
       "    </tr>\n",
       "    <tr>\n",
       "      <th>12</th>\n",
       "      <td>1000</td>\n",
       "      <td>2</td>\n",
       "    </tr>\n",
       "    <tr>\n",
       "      <th>13</th>\n",
       "      <td>1100</td>\n",
       "      <td>2</td>\n",
       "    </tr>\n",
       "    <tr>\n",
       "      <th>14</th>\n",
       "      <td>2250</td>\n",
       "      <td>3</td>\n",
       "    </tr>\n",
       "    <tr>\n",
       "      <th>15</th>\n",
       "      <td>1175</td>\n",
       "      <td>2</td>\n",
       "    </tr>\n",
       "    <tr>\n",
       "      <th>16</th>\n",
       "      <td>1180</td>\n",
       "      <td>3</td>\n",
       "    </tr>\n",
       "    <tr>\n",
       "      <th>17</th>\n",
       "      <td>1540</td>\n",
       "      <td>3</td>\n",
       "    </tr>\n",
       "    <tr>\n",
       "      <th>18</th>\n",
       "      <td>2770</td>\n",
       "      <td>3</td>\n",
       "    </tr>\n",
       "    <tr>\n",
       "      <th>19</th>\n",
       "      <td>800</td>\n",
       "      <td>1</td>\n",
       "    </tr>\n",
       "  </tbody>\n",
       "</table>\n",
       "</div>"
      ],
      "text/plain": [
       "    area  bedrooms\n",
       "0   1056         2\n",
       "1   2600         4\n",
       "2   1440         3\n",
       "3   1521         3\n",
       "4   1200         2\n",
       "5   1170         2\n",
       "6   2732         4\n",
       "7   3300         4\n",
       "8   1310         3\n",
       "9   3700         5\n",
       "10  1800         3\n",
       "11  2785         4\n",
       "12  1000         2\n",
       "13  1100         2\n",
       "14  2250         3\n",
       "15  1175         2\n",
       "16  1180         3\n",
       "17  1540         3\n",
       "18  2770         3\n",
       "19   800         1"
      ]
     },
     "execution_count": 106,
     "metadata": {},
     "output_type": "execute_result"
    }
   ],
   "source": [
    "df.drop('price',axis='columns')"
   ]
  },
  {
   "cell_type": "code",
   "execution_count": 107,
   "id": "d4d09a32",
   "metadata": {},
   "outputs": [
    {
     "data": {
      "text/plain": [
       "array([[0.08827586, 0.25      ],\n",
       "       [0.62068966, 0.75      ],\n",
       "       [0.22068966, 0.5       ],\n",
       "       [0.24862069, 0.5       ],\n",
       "       [0.13793103, 0.25      ],\n",
       "       [0.12758621, 0.25      ],\n",
       "       [0.6662069 , 0.75      ],\n",
       "       [0.86206897, 0.75      ],\n",
       "       [0.17586207, 0.5       ],\n",
       "       [1.        , 1.        ],\n",
       "       [0.34482759, 0.5       ],\n",
       "       [0.68448276, 0.75      ],\n",
       "       [0.06896552, 0.25      ],\n",
       "       [0.10344828, 0.25      ],\n",
       "       [0.5       , 0.5       ],\n",
       "       [0.12931034, 0.25      ],\n",
       "       [0.13103448, 0.5       ],\n",
       "       [0.25517241, 0.5       ],\n",
       "       [0.67931034, 0.5       ],\n",
       "       [0.        , 0.        ]])"
      ]
     },
     "execution_count": 107,
     "metadata": {},
     "output_type": "execute_result"
    }
   ],
   "source": [
    "#Scaling\n",
    "from sklearn import preprocessing\n",
    "\n",
    "sx= preprocessing.MinMaxScaler()\n",
    "sy= preprocessing.MinMaxScaler()\n",
    "\n",
    "scaled_X = sx.fit_transform(df.drop('price',axis='columns'))\n",
    "scaled_X"
   ]
  },
  {
   "cell_type": "code",
   "execution_count": 108,
   "id": "ecab3498",
   "metadata": {},
   "outputs": [
    {
     "data": {
      "text/plain": [
       "array([[0.05237037],\n",
       "       [0.65185185],\n",
       "       [0.22222222],\n",
       "       [0.31851852],\n",
       "       [0.14074074],\n",
       "       [0.04444444],\n",
       "       [0.76296296],\n",
       "       [0.91111111],\n",
       "       [0.13333333],\n",
       "       [1.        ],\n",
       "       [0.37037037],\n",
       "       [0.8       ],\n",
       "       [0.04444444],\n",
       "       [0.05925926],\n",
       "       [0.51111111],\n",
       "       [0.07407407],\n",
       "       [0.11851852],\n",
       "       [0.20740741],\n",
       "       [0.51851852],\n",
       "       [0.        ]])"
      ]
     },
     "execution_count": 108,
     "metadata": {},
     "output_type": "execute_result"
    }
   ],
   "source": [
    "scaled_y = sy.fit_transform(df['price'].values.reshape(df.shape[0],1))\n",
    "scaled_y"
   ]
  },
  {
   "cell_type": "markdown",
   "id": "0e963ec4",
   "metadata": {},
   "source": [
    "## Batch Gradient Descent"
   ]
  },
  {
   "cell_type": "code",
   "execution_count": 109,
   "id": "b7f9bb4d",
   "metadata": {},
   "outputs": [
    {
     "data": {
      "text/plain": [
       "array([0.05237037, 0.65185185, 0.22222222, 0.31851852, 0.14074074,\n",
       "       0.04444444, 0.76296296, 0.91111111, 0.13333333, 1.        ,\n",
       "       0.37037037, 0.8       , 0.04444444, 0.05925926, 0.51111111,\n",
       "       0.07407407, 0.11851852, 0.20740741, 0.51851852, 0.        ])"
      ]
     },
     "execution_count": 109,
     "metadata": {},
     "output_type": "execute_result"
    }
   ],
   "source": [
    "scaled_y.reshape(20,)"
   ]
  },
  {
   "cell_type": "code",
   "execution_count": 110,
   "id": "0f2ddf80",
   "metadata": {},
   "outputs": [],
   "source": [
    "  w = np.ones(shape=(2))"
   ]
  },
  {
   "cell_type": "code",
   "execution_count": 111,
   "id": "aa48d4f4",
   "metadata": {},
   "outputs": [
    {
     "data": {
      "text/plain": [
       "array([[0.08827586, 0.62068966, 0.22068966, 0.24862069, 0.13793103,\n",
       "        0.12758621, 0.6662069 , 0.86206897, 0.17586207, 1.        ,\n",
       "        0.34482759, 0.68448276, 0.06896552, 0.10344828, 0.5       ,\n",
       "        0.12931034, 0.13103448, 0.25517241, 0.67931034, 0.        ],\n",
       "       [0.25      , 0.75      , 0.5       , 0.5       , 0.25      ,\n",
       "        0.25      , 0.75      , 0.75      , 0.5       , 1.        ,\n",
       "        0.5       , 0.75      , 0.25      , 0.25      , 0.5       ,\n",
       "        0.25      , 0.5       , 0.5       , 0.5       , 0.        ]])"
      ]
     },
     "execution_count": 111,
     "metadata": {},
     "output_type": "execute_result"
    }
   ],
   "source": [
    "#Transpose\n",
    "scaled_X.T"
   ]
  },
  {
   "cell_type": "code",
   "execution_count": 112,
   "id": "10370246",
   "metadata": {},
   "outputs": [
    {
     "data": {
      "text/plain": [
       "array([0.33827586, 1.37068966, 0.72068966, 0.74862069, 0.38793103,\n",
       "       0.37758621, 1.4162069 , 1.61206897, 0.67586207, 2.        ,\n",
       "       0.84482759, 1.43448276, 0.31896552, 0.35344828, 1.        ,\n",
       "       0.37931034, 0.63103448, 0.75517241, 1.17931034, 0.        ])"
      ]
     },
     "execution_count": 112,
     "metadata": {},
     "output_type": "execute_result"
    }
   ],
   "source": [
    "np.dot(w, scaled_X.T)"
   ]
  },
  {
   "cell_type": "code",
   "execution_count": 113,
   "id": "bcfb744b",
   "metadata": {},
   "outputs": [
    {
     "data": {
      "text/plain": [
       "array([-9, -3, -4])"
      ]
     },
     "execution_count": 113,
     "metadata": {},
     "output_type": "execute_result"
    }
   ],
   "source": [
    "a = np.array([1,2,3])\n",
    "b = np.array([10,5,7])\n",
    "a - b"
   ]
  },
  {
   "cell_type": "code",
   "execution_count": 114,
   "id": "c9edfd66",
   "metadata": {},
   "outputs": [
    {
     "data": {
      "text/plain": [
       "35.333333333333336"
      ]
     },
     "execution_count": 114,
     "metadata": {},
     "output_type": "execute_result"
    }
   ],
   "source": [
    "np.mean(np.square(a-b))"
   ]
  },
  {
   "cell_type": "code",
   "execution_count": 115,
   "id": "f66b1c12",
   "metadata": {},
   "outputs": [
    {
     "data": {
      "text/plain": [
       "(array([0.70712464, 0.67456527]), -0.23034857438407427, 0.0068641890429808105)"
      ]
     },
     "execution_count": 115,
     "metadata": {},
     "output_type": "execute_result"
    }
   ],
   "source": [
    "def batch_gradient_descent(x,y_true,epochs,learning_rate=0.01):\n",
    "    #x.shape gives no. of rows and columns\n",
    "    number_of_features = x.shape[1]\n",
    "    \n",
    "    w = np.ones(shape=(number_of_features))\n",
    "    b = 0 \n",
    "    total_samples = x.shape[0]\n",
    "    \n",
    "    cost_list=[]\n",
    "    epoch_list=[]\n",
    "    \n",
    "    for i in range(epochs):\n",
    "        #weighted sum between all features and weights\n",
    "        y_predicted= np.dot(w, scaled_X.T)+b #w1*area + w2*bedrooms\n",
    "        \n",
    "        #Derivative of error wrt w1 & w2\n",
    "        w_grad = -(2/total_samples)*(x.T.dot(y_true-y_predicted))\n",
    "        b_grad = -(2/total_samples)*np.sum(y_true-y_predicted)\n",
    "        \n",
    "        w = w-learning_rate * w_grad\n",
    "        b = b-learning_rate * b_grad\n",
    "        \n",
    "        cost = np.mean(np.square(y_true-y_predicted))\n",
    "        \n",
    "        if i%10==0:\n",
    "            cost_list.append(cost)\n",
    "            epoch_list.append(i)\n",
    "            \n",
    "    return w,b,cost,cost_list, epoch_list\n",
    "\n",
    "w,b,cost,cost_list,epoch_list = batch_gradient_descent(scaled_X,scaled_y.reshape(scaled_y.shape[0],),500)\n",
    "w,b,cost\n",
    "            \n",
    "    "
   ]
  },
  {
   "cell_type": "code",
   "execution_count": 116,
   "id": "2d512d12",
   "metadata": {},
   "outputs": [
    {
     "data": {
      "text/plain": [
       "[<matplotlib.lines.Line2D at 0x12d9b7d50>]"
      ]
     },
     "execution_count": 116,
     "metadata": {},
     "output_type": "execute_result"
    },
    {
     "data": {
      "image/png": "[encoded data removed]",
      "text/plain": [
       "<Figure size 640x480 with 1 Axes>"
      ]
     },
     "metadata": {},
     "output_type": "display_data"
    }
   ],
   "source": [
    "plt.xlabel(\"epoch\")\n",
    "plt.ylabel(\"cost\")\n",
    "plt.plot(epoch_list,cost_list)"
   ]
  },
  {
   "cell_type": "code",
   "execution_count": 117,
   "id": "2127a840",
   "metadata": {},
   "outputs": [
    {
     "name": "stderr",
     "output_type": "stream",
     "text": [
      "/Users/ritikagupta/anaconda3/lib/python3.11/site-packages/sklearn/base.py:464: UserWarning: X does not have valid feature names, but MinMaxScaler was fitted with feature names\n",
      "  warnings.warn(\n"
     ]
    },
    {
     "data": {
      "text/plain": [
       "array([[0.62068966, 0.75      ]])"
      ]
     },
     "execution_count": 117,
     "metadata": {},
     "output_type": "execute_result"
    }
   ],
   "source": [
    "sx.transform([[2600,4]])"
   ]
  },
  {
   "cell_type": "code",
   "execution_count": 118,
   "id": "d96f55ab",
   "metadata": {},
   "outputs": [
    {
     "data": {
      "text/plain": [
       "array([[167.,  32.]])"
      ]
     },
     "execution_count": 118,
     "metadata": {},
     "output_type": "execute_result"
    }
   ],
   "source": [
    "sy.inverse_transform([[1,0]]) #Max Value, Min Value"
   ]
  },
  {
   "cell_type": "code",
   "execution_count": 119,
   "id": "65df1d78",
   "metadata": {},
   "outputs": [
    {
     "name": "stderr",
     "output_type": "stream",
     "text": [
      "/Users/ritikagupta/anaconda3/lib/python3.11/site-packages/sklearn/base.py:464: UserWarning: X does not have valid feature names, but MinMaxScaler was fitted with feature names\n",
      "  warnings.warn(\n"
     ]
    },
    {
     "data": {
      "text/plain": [
       "128.45484403267596"
      ]
     },
     "execution_count": 119,
     "metadata": {},
     "output_type": "execute_result"
    }
   ],
   "source": [
    "def predict(area,bedrooms,w,b):\n",
    "    scaled_X = sx.transform([[area,bedrooms]])[0]\n",
    "    scaled_price = w[0] * scaled_X[0] + w[1] * scaled_X[1] + b\n",
    "    #Reverse Transform\n",
    "    return sy.inverse_transform([[scaled_price]])[0][0]\n",
    "    \n",
    "\n",
    "predict(2600,4,w,b)"
   ]
  },
  {
   "cell_type": "code",
   "execution_count": 120,
   "id": "b67aa921",
   "metadata": {},
   "outputs": [
    {
     "name": "stderr",
     "output_type": "stream",
     "text": [
      "/Users/ritikagupta/anaconda3/lib/python3.11/site-packages/sklearn/base.py:464: UserWarning: X does not have valid feature names, but MinMaxScaler was fitted with feature names\n",
      "  warnings.warn(\n"
     ]
    },
    {
     "data": {
      "text/plain": [
       "30.253094462442355"
      ]
     },
     "execution_count": 120,
     "metadata": {},
     "output_type": "execute_result"
    }
   ],
   "source": [
    "predict(1000,2,w,b)"
   ]
  },
  {
   "cell_type": "code",
   "execution_count": 121,
   "id": "e8f61aba",
   "metadata": {},
   "outputs": [
    {
     "name": "stderr",
     "output_type": "stream",
     "text": [
      "/Users/ritikagupta/anaconda3/lib/python3.11/site-packages/sklearn/base.py:464: UserWarning: X does not have valid feature names, but MinMaxScaler was fitted with feature names\n",
      "  warnings.warn(\n"
     ]
    },
    {
     "data": {
      "text/plain": [
       "69.47860785714694"
      ]
     },
     "execution_count": 121,
     "metadata": {},
     "output_type": "execute_result"
    }
   ],
   "source": [
    "predict(1500,3,w,b)"
   ]
  },
  {
   "cell_type": "code",
   "execution_count": 122,
   "id": "af46e016",
   "metadata": {},
   "outputs": [
    {
     "data": {
      "text/plain": [
       "4"
      ]
     },
     "execution_count": 122,
     "metadata": {},
     "output_type": "execute_result"
    }
   ],
   "source": [
    "import random\n",
    "random.randint(0,6)"
   ]
  },
  {
   "cell_type": "markdown",
   "id": "7f4df40d",
   "metadata": {},
   "source": [
    "## Stochastic Gradient Descent"
   ]
  },
  {
   "cell_type": "code",
   "execution_count": 123,
   "id": "f4a56ece",
   "metadata": {},
   "outputs": [
    {
     "data": {
      "text/plain": [
       "(array([0.71126393, 0.67643615]), -0.23165275243525257, 0.004280312933792654)"
      ]
     },
     "execution_count": 123,
     "metadata": {},
     "output_type": "execute_result"
    }
   ],
   "source": [
    "def stochastic_gradient_descent(X,y_true,epochs,learning_rate=0.01):\n",
    "    number_of_features = X.shape[1]\n",
    "    w = np.ones(shape=(number_of_features))\n",
    "    b = 0\n",
    "    total_samples = X.shape[0]\n",
    "    \n",
    "    cost_list = []\n",
    "    epoch_list = []\n",
    "    \n",
    "    for i in range(epochs):\n",
    "        random_index = random.randint(0,total_samples-1)\n",
    "        sample_x = X[random_index]\n",
    "        sample_y = y_true[random_index]\n",
    "        y_predicted = np.dot(w,sample_x.T) + b\n",
    "        \n",
    "        w_grad = -(2/total_samples)*(sample_x.T.dot(sample_y-y_predicted))\n",
    "        b_grad = -(2/total_samples)*(sample_y-y_predicted)\n",
    "        \n",
    "        w = w - learning_rate * w_grad\n",
    "        b = b - learning_rate * b_grad\n",
    "        \n",
    "        cost = np.square(sample_y-y_predicted)\n",
    "        \n",
    "        if i%100==0: #at every 100th iteration record the cost & epoch values\n",
    "            cost_list.append(cost)\n",
    "            epoch_list.append(i)\n",
    "    return w,b,cost,cost_list,epoch_list\n",
    "\n",
    "w_sgd, b_sgd, cost_sgd,cost_list_sgd,epoch_list_sgd = stochastic_gradient_descent(scaled_X,scaled_y.reshape(scaled_y.shape[0],),10000)\n",
    "w_sgd,b_sgd,cost_sgd"
   ]
  },
  {
   "cell_type": "code",
   "execution_count": 124,
   "id": "48a73284",
   "metadata": {},
   "outputs": [
    {
     "data": {
      "text/plain": [
       "(array([0.70712464, 0.67456527]), -0.23034857438407427, 0.0068641890429808105)"
      ]
     },
     "execution_count": 124,
     "metadata": {},
     "output_type": "execute_result"
    }
   ],
   "source": [
    "w,b,cost"
   ]
  },
  {
   "cell_type": "code",
   "execution_count": 125,
   "id": "722e186c",
   "metadata": {},
   "outputs": [
    {
     "data": {
      "text/plain": [
       "[<matplotlib.lines.Line2D at 0x12da7b2d0>]"
      ]
     },
     "execution_count": 125,
     "metadata": {},
     "output_type": "execute_result"
    },
    {
     "data": {
      "image/png": "[encoded data removed]",
      "text/plain": [
       "<Figure size 640x480 with 1 Axes>"
      ]
     },
     "metadata": {},
     "output_type": "display_data"
    }
   ],
   "source": [
    "plt.xlabel('epoch')\n",
    "plt.ylabel('cost')\n",
    "plt.plot(epoch_list_sgd,cost_list_sgd)"
   ]
  },
  {
   "cell_type": "code",
   "execution_count": 126,
   "id": "0370d395",
   "metadata": {},
   "outputs": [
    {
     "name": "stderr",
     "output_type": "stream",
     "text": [
      "/Users/ritikagupta/anaconda3/lib/python3.11/site-packages/sklearn/base.py:464: UserWarning: X does not have valid feature names, but MinMaxScaler was fitted with feature names\n",
      "  warnings.warn(\n"
     ]
    },
    {
     "data": {
      "text/plain": [
       "128.8150505035122"
      ]
     },
     "execution_count": 126,
     "metadata": {},
     "output_type": "execute_result"
    }
   ],
   "source": [
    "predict(2600,4,w_sgd,b_sgd)"
   ]
  },
  {
   "cell_type": "code",
   "execution_count": 127,
   "id": "1dccefb3",
   "metadata": {},
   "outputs": [
    {
     "name": "stderr",
     "output_type": "stream",
     "text": [
      "/Users/ritikagupta/anaconda3/lib/python3.11/site-packages/sklearn/base.py:464: UserWarning: X does not have valid feature names, but MinMaxScaler was fitted with feature names\n",
      "  warnings.warn(\n"
     ]
    },
    {
     "data": {
      "text/plain": [
       "69.56371196406519"
      ]
     },
     "execution_count": 127,
     "metadata": {},
     "output_type": "execute_result"
    }
   ],
   "source": [
    "predict(1500,3,w_sgd,b_sgd)"
   ]
  },
  {
   "cell_type": "markdown",
   "id": "0857ba9d",
   "metadata": {},
   "source": [
    "## Mini Batch Gradient Descent"
   ]
  },
  {
   "cell_type": "code",
   "execution_count": 133,
   "id": "c90c4a30",
   "metadata": {},
   "outputs": [
    {
     "data": {
      "text/plain": [
       "(array([0.71004661, 0.67811959]), -0.2334205352527214, 0.015655282068533692)"
      ]
     },
     "execution_count": 133,
     "metadata": {},
     "output_type": "execute_result"
    }
   ],
   "source": [
    "def mini_batch_gradient_descent(X, y_true, epochs = 100, batch_size = 5, learning_rate = 0.01):\n",
    "    \n",
    "    number_of_features = X.shape[1]\n",
    "    # numpy array with 1 row and columns equal to number of features. In \n",
    "    # our case number_of_features = 3 (area, bedroom and age)\n",
    "    w = np.ones(shape=(number_of_features)) \n",
    "    b = 0\n",
    "    total_samples = X.shape[0] # number of rows in X\n",
    "    \n",
    "    if batch_size > total_samples: # In this case mini batch becomes same as batch gradient descent\n",
    "        batch_size = total_samples\n",
    "        \n",
    "    cost_list = []\n",
    "    epoch_list = []\n",
    "    \n",
    "    num_batches = int(total_samples/batch_size)\n",
    "    \n",
    "    for i in range(epochs):    \n",
    "        random_indices = np.random.permutation(total_samples)\n",
    "        X_tmp = X[random_indices]\n",
    "        y_tmp = y_true[random_indices]\n",
    "        \n",
    "        for j in range(0,total_samples,batch_size):\n",
    "            Xj = X_tmp[j:j+batch_size]\n",
    "            yj = y_tmp[j:j+batch_size]\n",
    "            y_predicted = np.dot(w, Xj.T) + b\n",
    "            \n",
    "            w_grad = -(2/len(Xj))*(Xj.T.dot(yj-y_predicted))\n",
    "            b_grad = -(2/len(Xj))*np.sum(yj-y_predicted)\n",
    "            \n",
    "            w = w - learning_rate * w_grad\n",
    "            b = b - learning_rate * b_grad\n",
    "                \n",
    "            cost = np.mean(np.square(yj-y_predicted)) # MSE (Mean Squared Error)\n",
    "        \n",
    "        if i%10==0:\n",
    "            cost_list.append(cost)\n",
    "            epoch_list.append(i)\n",
    "        \n",
    "    return w, b, cost, cost_list, epoch_list\n",
    "\n",
    "w, b, cost, cost_list, epoch_list = mini_batch_gradient_descent(\n",
    "    scaled_X,\n",
    "    scaled_y.reshape(scaled_y.shape[0],),\n",
    "    epochs = 120,\n",
    "    batch_size = 5\n",
    ")\n",
    "w, b, cost\n",
    "        "
   ]
  },
  {
   "cell_type": "code",
   "execution_count": 134,
   "id": "c9c1f24f",
   "metadata": {},
   "outputs": [
    {
     "data": {
      "image/png": "[encoded data removed]",
      "text/plain": [
       "<Figure size 640x480 with 1 Axes>"
      ]
     },
     "metadata": {},
     "output_type": "display_data"
    }
   ],
   "source": [
    "plt.xlabel(\"epoch\")\n",
    "plt.ylabel(\"cost\")\n",
    "plt.plot(epoch_list,cost_list)\n",
    "plt.show()"
   ]
  },
  {
   "cell_type": "code",
   "execution_count": 138,
   "id": "c0b1711a",
   "metadata": {},
   "outputs": [
    {
     "name": "stderr",
     "output_type": "stream",
     "text": [
      "/Users/ritikagupta/anaconda3/lib/python3.11/site-packages/sklearn/base.py:464: UserWarning: X does not have valid feature names, but MinMaxScaler was fitted with feature names\n",
      "  warnings.warn(\n"
     ]
    },
    {
     "data": {
      "text/plain": [
       "128.64484542049092"
      ]
     },
     "execution_count": 138,
     "metadata": {},
     "output_type": "execute_result"
    }
   ],
   "source": [
    "def predict(area,bedrooms,w,b):\n",
    "    scaled_X = sx.transform([[area,bedrooms]])[0]\n",
    "    scaled_price = w[0] *scaled_X[0] +w[1]* scaled_X[1] + b\n",
    "    \n",
    "    return sy.inverse_transform([[scaled_price]])[0][0]\n",
    "predict(2600,4,w,b)"
   ]
  },
  {
   "cell_type": "code",
   "execution_count": 139,
   "id": "b53d08f1",
   "metadata": {},
   "outputs": [
    {
     "name": "stderr",
     "output_type": "stream",
     "text": [
      "/Users/ritikagupta/anaconda3/lib/python3.11/site-packages/sklearn/base.py:464: UserWarning: X does not have valid feature names, but MinMaxScaler was fitted with feature names\n",
      "  warnings.warn(\n"
     ]
    },
    {
     "data": {
      "text/plain": [
       "29.985542792770527"
      ]
     },
     "execution_count": 139,
     "metadata": {},
     "output_type": "execute_result"
    }
   ],
   "source": [
    "predict(1000,2,w,b)"
   ]
  },
  {
   "cell_type": "code",
   "execution_count": 140,
   "id": "933d7b5c",
   "metadata": {},
   "outputs": [
    {
     "name": "stderr",
     "output_type": "stream",
     "text": [
      "/Users/ritikagupta/anaconda3/lib/python3.11/site-packages/sklearn/base.py:464: UserWarning: X does not have valid feature names, but MinMaxScaler was fitted with feature names\n",
      "  warnings.warn(\n"
     ]
    },
    {
     "data": {
      "text/plain": [
       "69.39902597564458"
      ]
     },
     "execution_count": 140,
     "metadata": {},
     "output_type": "execute_result"
    }
   ],
   "source": [
    "predict(1500,3,w,b)"
   ]
  },
  {
   "cell_type": "code",
   "execution_count": null,
   "id": "8c61177f",
   "metadata": {},
   "outputs": [],
   "source": []
  }
 ],
 "metadata": {
  "kernelspec": {
   "display_name": "Python 3 (ipykernel)",
   "language": "python",
   "name": "python3"
  },
  "language_info": {
   "codemirror_mode": {
    "name": "ipython",
    "version": 3
   },
   "file_extension": ".py",
   "mimetype": "text/x-python",
   "name": "python",
   "nbconvert_exporter": "python",
   "pygments_lexer": "ipython3",
   "version": "3.11.4"
  }
 },
 "nbformat": 4,
 "nbformat_minor": 5
}
