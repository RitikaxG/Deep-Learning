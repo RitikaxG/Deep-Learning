{
 "cells": [
  {
   "cell_type": "code",
   "execution_count": 1,
   "id": "895bfe18-2c39-4921-a054-8b476b3da5cc",
   "metadata": {},
   "outputs": [],
   "source": [
    "import numpy as np\n",
    "from tensorflow.keras.preprocessing.text import one_hot\n",
    "from tensorflow.keras.preprocessing.sequence import pad_sequences\n",
    "from tensorflow.keras.models import Sequential\n",
    "from tensorflow.keras.layers import Dense\n",
    "from tensorflow.keras.layers import Flatten\n",
    "from tensorflow.keras.layers import Embedding"
   ]
  },
  {
   "cell_type": "code",
   "execution_count": 3,
   "id": "45b588cf-72da-4da2-961a-a7c26200ea26",
   "metadata": {},
   "outputs": [],
   "source": [
    "reviews = [\"nice food\",\n",
    "          \"amazing restaurant\",\n",
    "          \"too good\",\n",
    "          \"just loved it!\",\n",
    "          \"will go again\",\n",
    "          \"horrible food\",\n",
    "          \"never go there\",\n",
    "          \"poor service\",\n",
    "          \"poor quality\",\n",
    "          \"needs improvement\"]\n",
    "\n",
    "sentiment = np.array([1,1,1,1,1,0,0,0,0,0])"
   ]
  },
  {
   "cell_type": "code",
   "execution_count": 23,
   "id": "eb041879-2698-4ecd-a25d-c8c3ec0ae584",
   "metadata": {},
   "outputs": [
    {
     "data": {
      "text/plain": [
       "[14, 15]"
      ]
     },
     "execution_count": 23,
     "metadata": {},
     "output_type": "execute_result"
    }
   ],
   "source": [
    "#Converting into One Hot Vector \n",
    "#Assigned 'amazing' number:17, & 'restaurant' : number :29\n",
    "one_hot(\"amazing restaurant\",40)"
   ]
  },
  {
   "cell_type": "code",
   "execution_count": 24,
   "id": "676b30f2-cdd6-4a59-85eb-57fcede4ae7d",
   "metadata": {
    "scrolled": true
   },
   "outputs": [
    {
     "name": "stdout",
     "output_type": "stream",
     "text": [
      "[[27, 24], [17, 29], [10, 3], [11, 1, 22], [14, 13, 16], [7, 24], [2, 13, 22], [5, 4], [5, 17], [14, 29]]\n"
     ]
    }
   ],
   "source": [
    "vocab_size = 30\n",
    "encoded_reviews = [one_hot(d, vocab_size) for d in reviews]\n",
    "print(encoded_reviews)"
   ]
  },
  {
   "cell_type": "code",
   "execution_count": 25,
   "id": "7f3fe938-21f7-4b55-80c6-157884acac56",
   "metadata": {},
   "outputs": [
    {
     "data": {
      "text/plain": [
       "array([[27, 24,  0],\n",
       "       [17, 29,  0],\n",
       "       [10,  3,  0],\n",
       "       [11,  1, 22],\n",
       "       [14, 13, 16],\n",
       "       [ 7, 24,  0],\n",
       "       [ 2, 13, 22],\n",
       "       [ 5,  4,  0],\n",
       "       [ 5, 17,  0],\n",
       "       [14, 29,  0]], dtype=int32)"
      ]
     },
     "execution_count": 25,
     "metadata": {},
     "output_type": "execute_result"
    }
   ],
   "source": [
    "max_length = 3\n",
    "#Supplying all encoded reviews into padded sequences\n",
    "# padding =\"post\": pad the reviews towards the end\n",
    "padded_reviews = pad_sequences(encoded_reviews, maxlen= max_length, padding =\"post\")\n",
    "padded_reviews\n",
    "#Now, every vector size is 3"
   ]
  },
  {
   "cell_type": "code",
   "execution_count": 26,
   "id": "9aa1b01c-16e8-448b-a546-5b26ea3d0c5a",
   "metadata": {},
   "outputs": [],
   "source": [
    "embedded_vector_size = 4\n",
    "\n",
    "#1st layer will be embedding layer\n",
    "model = Sequential()\n",
    "model.add(Embedding(vocab_size, embedded_vector_size, input_length= max_length, name =\"embedding\"))\n",
    "#Flatten the layer\n",
    "model.add(Flatten())\n",
    "#Next layer would be 1 neuron sigmoid activation function\n",
    "model.add(Dense(1,activation='sigmoid'))"
   ]
  },
  {
   "cell_type": "code",
   "execution_count": 27,
   "id": "2f5bcf94-cbdc-43e3-9a47-1ba1551e1731",
   "metadata": {},
   "outputs": [],
   "source": [
    "X = padded_reviews\n",
    "y = sentiment"
   ]
  },
  {
   "cell_type": "code",
   "execution_count": 28,
   "id": "9fa7e048-7430-4464-86a2-4b143a0f5994",
   "metadata": {},
   "outputs": [
    {
     "name": "stdout",
     "output_type": "stream",
     "text": [
      "Model: \"sequential_2\"\n",
      "_________________________________________________________________\n",
      " Layer (type)                Output Shape              Param #   \n",
      "=================================================================\n",
      " embedding (Embedding)       (None, 3, 4)              120       \n",
      "                                                                 \n",
      " flatten_2 (Flatten)         (None, 12)                0         \n",
      "                                                                 \n",
      " dense_2 (Dense)             (None, 1)                 13        \n",
      "                                                                 \n",
      "=================================================================\n",
      "Total params: 133 (532.00 Byte)\n",
      "Trainable params: 133 (532.00 Byte)\n",
      "Non-trainable params: 0 (0.00 Byte)\n",
      "_________________________________________________________________\n"
     ]
    }
   ],
   "source": [
    "#Since, review can be +/- :binary_crossentropy\n",
    "model.compile(optimizer = 'adam',loss='binary_crossentropy',metrics=['accuracy'])\n",
    "model.summary()"
   ]
  },
  {
   "cell_type": "code",
   "execution_count": 29,
   "id": "14a53b18-edbc-4254-aa0f-363dd018564a",
   "metadata": {},
   "outputs": [
    {
     "data": {
      "text/plain": [
       "<keras.src.callbacks.History at 0x2b02df610>"
      ]
     },
     "execution_count": 29,
     "metadata": {},
     "output_type": "execute_result"
    }
   ],
   "source": [
    "model.fit(X, y, epochs =50,verbose =0)"
   ]
  },
  {
   "cell_type": "code",
   "execution_count": 30,
   "id": "ca7528d2-af7c-4c9c-a6bc-f9500f6e2eb7",
   "metadata": {},
   "outputs": [
    {
     "name": "stdout",
     "output_type": "stream",
     "text": [
      "1/1 [==============================] - 0s 63ms/step - loss: 0.6441 - accuracy: 0.9000\n"
     ]
    }
   ],
   "source": [
    "loss, accuracy = model.evaluate(X,y)"
   ]
  },
  {
   "cell_type": "code",
   "execution_count": 31,
   "id": "085000c1-b915-45d4-b5cc-ceee87653359",
   "metadata": {},
   "outputs": [
    {
     "data": {
      "text/plain": [
       "30"
      ]
     },
     "execution_count": 31,
     "metadata": {},
     "output_type": "execute_result"
    }
   ],
   "source": [
    "#Extract weights\n",
    "weights = model.get_layer('embedding').get_weights()[0]\n",
    "len(weights)"
   ]
  },
  {
   "cell_type": "code",
   "execution_count": 32,
   "id": "87b747db-23e9-4b66-b2bc-7e3509d0587c",
   "metadata": {},
   "outputs": [
    {
     "data": {
      "text/plain": [
       "array([-0.06857188,  0.03978147,  0.04583412,  0.04156191], dtype=float32)"
      ]
     },
     "execution_count": 32,
     "metadata": {},
     "output_type": "execute_result"
    }
   ],
   "source": [
    "weights[27]"
   ]
  },
  {
   "cell_type": "code",
   "execution_count": 33,
   "id": "85bd8b0b-d1b9-4c59-84b8-0b79f4573b28",
   "metadata": {},
   "outputs": [
    {
     "data": {
      "text/plain": [
       "array([-0.02820498,  0.03644514,  0.00530653,  0.02175176], dtype=float32)"
      ]
     },
     "execution_count": 33,
     "metadata": {},
     "output_type": "execute_result"
    }
   ],
   "source": [
    "weights[24]"
   ]
  },
  {
   "cell_type": "code",
   "execution_count": null,
   "id": "49c50f9a-20e3-4986-9295-079653245ba2",
   "metadata": {},
   "outputs": [],
   "source": []
  }
 ],
 "metadata": {
  "kernelspec": {
   "display_name": "Python 3 (ipykernel)",
   "language": "python",
   "name": "python3"
  },
  "language_info": {
   "codemirror_mode": {
    "name": "ipython",
    "version": 3
   },
   "file_extension": ".py",
   "mimetype": "text/x-python",
   "name": "python",
   "nbconvert_exporter": "python",
   "pygments_lexer": "ipython3",
   "version": "3.11.4"
  }
 },
 "nbformat": 4,
 "nbformat_minor": 5
}
